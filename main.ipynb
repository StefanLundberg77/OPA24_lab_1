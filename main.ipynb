{
 "cells": [
  {
   "cell_type": "markdown",
   "metadata": {},
   "source": [
    "##### Reading and sorting the .txt file in a dictionary using our study material."
   ]
  },
  {
   "cell_type": "code",
   "execution_count": 211,
   "metadata": {},
   "outputs": [
    {
     "name": "stdout",
     "output_type": "stream",
     "text": [
      ">seq1\n",
      "cgtaaccaataaaaaaacaagcttaacctaattc\n",
      "\n",
      ">seq2\n",
      "agcttagtttggatctggccgggg\n",
      "\n",
      ">seq3\n",
      "gcggatttactccccccaaaaannaggggagagcccagataaatggagtctgtgcgtccaca\n",
      "\n",
      ">seq4\n",
      "gcggatttactcaggggagagcccagggataaatggagtctgtgcgtccaca\n",
      "\n"
     ]
    }
   ],
   "source": [
    "# file path\n",
    "text_path = \"data/dna_raw.txt\" # text_path2 = \"data/dna_raw_complicated.txt\"\n",
    "\n",
    "# opening and reading the file\n",
    "with open(text_path, \"r\") as file:\n",
    "    raw_text = file.read()\n",
    "\n",
    "# sorting into lines by spliting the text\n",
    "lines = raw_text.split(\"\\n\")\n",
    "\n",
    "# dictionary to store the sequenses\n",
    "dna_sequences = {}\n",
    "\n",
    "# initializing a variable for later use as key in the dictionary \n",
    "sequence = {}\n",
    "\n",
    "# looping through the lines of the text\n",
    "for line in lines:\n",
    "\n",
    "    # identifying if the line begins with \">\" (each separate sequence begins with \">seq1\")\n",
    "    if line.startswith(\">\"):\n",
    "        \n",
    "        # store the line containing \">\" as dict key\n",
    "        sequence = line\n",
    "        \n",
    "        # store the key and an empty string as value in the dict\n",
    "        dna_sequences[sequence] = \"\"\n",
    "\n",
    "    # store the following line containing the actual dna sequence (in lower case) as the current sequence string value \n",
    "    else:\n",
    "        dna_sequences[sequence] += line.lower() # += to ensure correct corresponding sequence   \n",
    "\n",
    "# test printing the result\n",
    "for seq in dna_sequences:\n",
    "    print(f\"{seq}\")\n",
    "    print(f\"{dna_sequences[seq]}\\n\")\n",
    "       "
   ]
  },
  {
   "cell_type": "markdown",
   "metadata": {},
   "source": [
    "##### Counting the dna letters in the dict."
   ]
  },
  {
   "cell_type": "code",
   "execution_count": 223,
   "metadata": {},
   "outputs": [
    {
     "name": "stdout",
     "output_type": "stream",
     "text": [
      ">seq1:\n",
      " {'c': 8, 'g': 2, 't': 7, 'a': 17}\n",
      "\n",
      ">seq2:\n",
      " {'a': 3, 'g': 10, 'c': 4, 't': 7}\n",
      "\n",
      ">seq3:\n",
      " {'g': 16, 'c': 16, 'a': 18, 't': 10, 'n': 2}\n",
      "\n",
      ">seq4:\n",
      " {'g': 18, 'c': 11, 'a': 13, 't': 10}\n",
      "\n"
     ]
    }
   ],
   "source": [
    "# for each sequence, create a dictionary to count the number of each DNA letter in that sequence\n",
    "# for each sequence, graph the frequency of DNA letters for each sequence\n",
    "\n",
    "# empty dict for count results\n",
    "char_count = {}\n",
    "\n",
    "# loop through the dict to get the values\n",
    "for sequence_name, sequence in dna_sequences.items():\n",
    "    \n",
    "  # empty dict for storing each sequence count result\n",
    "  char_count[sequence_name] = {}\n",
    "\n",
    "  # loop through each char in sequence\n",
    "  for char in sequence:\n",
    "    # if ex. \"a\" found in a sequence count +1\n",
    "    if char in char_count[sequence_name]:\n",
    "      char_count[sequence_name][char] += 1\n",
    "    # if ex. \"a\" only seen once it gets 1\n",
    "    else:\n",
    "      char_count[sequence_name][char] = 1\n",
    "\n",
    "\n",
    "# print loop and work in progress sorting method.\n",
    "for sequence_name, char in char_count.items():\n",
    "    #atcg_format = char_count[sequence_name][char] #? bla bla\n",
    "    print(f\"{sequence_name}:\\n {char}\\n\")\n"
   ]
  }
 ],
 "metadata": {
  "kernelspec": {
   "display_name": "Python 3",
   "language": "python",
   "name": "python3"
  },
  "language_info": {
   "codemirror_mode": {
    "name": "ipython",
    "version": 3
   },
   "file_extension": ".py",
   "mimetype": "text/x-python",
   "name": "python",
   "nbconvert_exporter": "python",
   "pygments_lexer": "ipython3",
   "version": "3.13.2"
  }
 },
 "nbformat": 4,
 "nbformat_minor": 2
}
