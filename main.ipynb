{
 "cells": [
  {
   "cell_type": "markdown",
   "metadata": {},
   "source": [
    "##### Reading and sorting the .txt file in a dictionary using our study material."
   ]
  },
  {
   "cell_type": "code",
   "execution_count": 137,
   "metadata": {},
   "outputs": [
    {
     "name": "stdout",
     "output_type": "stream",
     "text": [
      ">seq1\n",
      "cGTAaccaataaaaaaacaagcttaacctaattc\n",
      "\n",
      ">seq2\n",
      "agcttagTTTGGatctggccgggg\n",
      "\n",
      ">seq3\n",
      "gcggatttactcCCCCCAAAAANNaggggagagcccagataaatggagtctgtgcgtccaca\n",
      "\n",
      ">seq4\n",
      "gcggatttactcaggggagagcccagGGataaatggagtctgtgcgtccaca\n",
      "\n"
     ]
    }
   ],
   "source": [
    "# file path\n",
    "text_path = \"data/dna_raw.txt\" # text_path2 = \"data/dna_raw_complicated.txt\"\n",
    "\n",
    "# opening and reading the file\n",
    "with open(text_path, \"r\") as file:\n",
    "    raw_text = file.read()\n",
    "\n",
    "# sorting into lines by spliting the text\n",
    "lines = raw_text.split(\"\\n\")\n",
    "\n",
    "# dictionary to store the sequenses\n",
    "dna_sequences = {}\n",
    "\n",
    "# initializing a variable for later use as key in the dictionary \n",
    "sequence = None\n",
    "\n",
    "# looping through the lines of the text\n",
    "for line in lines:\n",
    "\n",
    "    # identifying if the line begins with \">\" (each separate sequence begins with \">seq1\")\n",
    "    if line.startswith(\">\"):\n",
    "        \n",
    "        # store the line containing \">\" as dict key\n",
    "        sequence = line\n",
    "        \n",
    "        # store the key and an empty string as value in the dict\n",
    "        dna_sequences[sequence] = \"\"\n",
    "\n",
    "    # store the following line containing the actual dna sequence as the current sequence string value \n",
    "    else:\n",
    "        dna_sequences[sequence] += line # += to ensure correct corresponding sequence   \n",
    "\n",
    "# test printing the result\n",
    "for seq in dna_sequences:\n",
    "    print(f\"{seq}\")\n",
    "    print(f\"{dna_sequences[seq]}\\n\")\n",
    "       "
   ]
  }
 ],
 "metadata": {
  "kernelspec": {
   "display_name": "Python 3",
   "language": "python",
   "name": "python3"
  },
  "language_info": {
   "codemirror_mode": {
    "name": "ipython",
    "version": 3
   },
   "file_extension": ".py",
   "mimetype": "text/x-python",
   "name": "python",
   "nbconvert_exporter": "python",
   "pygments_lexer": "ipython3",
   "version": "3.13.2"
  }
 },
 "nbformat": 4,
 "nbformat_minor": 2
}
