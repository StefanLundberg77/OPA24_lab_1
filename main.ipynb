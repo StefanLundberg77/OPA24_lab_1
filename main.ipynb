{
 "cells": [
  {
   "cell_type": "code",
   "execution_count": null,
   "metadata": {},
   "outputs": [
    {
     "name": "stdout",
     "output_type": "stream",
     "text": [
      ">seq1\n",
      "cGTAaccaataaaaaaacaagcttaacctaattc\n",
      ">seq2\n",
      "agcttagTTTGGatctggccgggg\n",
      ">seq3\n",
      "gcggatttactcCCCCCAAAAANNaggggagagcccagataaatggagtctgtgcgtccaca\n",
      "gaattcgcacca\n",
      "AATAAAACCTCACCCAT\n",
      "agagcccagaatttactcCCC\n",
      ">seq4\n",
      "gcggatttactcaggggagagcccagGGataaatggagtctgtgcgtccaca\n",
      "gaattcgcacca\n"
     ]
    }
   ],
   "source": [
    "text_path = \"data/dna_raw.txt\"\n",
    "# text_path2 = \"data/dna_raw_complicated.txt\"\n",
    "\n",
    "with open(text_path, \"r\") as file:\n",
    "    raw_text = file.read()\n",
    "\n",
    "print(raw_text)"
   ]
  }
 ],
 "metadata": {
  "kernelspec": {
   "display_name": ".venv",
   "language": "python",
   "name": "python3"
  },
  "language_info": {
   "codemirror_mode": {
    "name": "ipython",
    "version": 3
   },
   "file_extension": ".py",
   "mimetype": "text/x-python",
   "name": "python",
   "nbconvert_exporter": "python",
   "pygments_lexer": "ipython3",
   "version": "3.12.8"
  }
 },
 "nbformat": 4,
 "nbformat_minor": 2
}
