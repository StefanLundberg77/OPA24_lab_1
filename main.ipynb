{
 "cells": [
  {
   "cell_type": "markdown",
   "metadata": {},
   "source": [
    "##### Reading and sorting the .txt file in a dictionary using our study material."
   ]
  },
  {
   "cell_type": "code",
   "execution_count": 178,
   "metadata": {},
   "outputs": [
    {
     "name": "stdout",
     "output_type": "stream",
     "text": [
      ">seq1\n",
      "cgtaaccaataaaaaaacaagcttaacctaattc\n",
      "\n",
      ">seq2\n",
      "agcttagtttggatctggccgggg\n",
      "\n",
      ">seq3\n",
      "gcggatttactccccccaaaaannaggggagagcccagataaatggagtctgtgcgtccaca\n",
      "\n",
      ">seq4\n",
      "gcggatttactcaggggagagcccagggataaatggagtctgtgcgtccaca\n",
      "\n"
     ]
    }
   ],
   "source": [
    "# file path\n",
    "text_path = \"data/dna_raw.txt\" # text_path2 = \"data/dna_raw_complicated.txt\"\n",
    "\n",
    "# opening and reading the file\n",
    "with open(text_path, \"r\") as file:\n",
    "    raw_text = file.read()\n",
    "\n",
    "# sorting into lines by spliting the text\n",
    "lines = raw_text.split(\"\\n\")\n",
    "\n",
    "# dictionary to store the sequenses\n",
    "dna_sequences = {}\n",
    "\n",
    "# initializing a variable for later use as key in the dictionary \n",
    "sequence = None\n",
    "\n",
    "# looping through the lines of the text\n",
    "for line in lines:\n",
    "\n",
    "    # identifying if the line begins with \">\" (each separate sequence begins with \">seq1\")\n",
    "    if line.startswith(\">\"):\n",
    "        \n",
    "        # store the line containing \">\" as dict key\n",
    "        sequence = line\n",
    "        \n",
    "        # store the key and an empty string as value in the dict\n",
    "        dna_sequences[sequence] = \"\"\n",
    "\n",
    "    # store the following line containing the actual dna sequence (in lower case) as the current sequence string value \n",
    "    else:\n",
    "        dna_sequences[sequence] += line.lower() # += to ensure correct corresponding sequence   \n",
    "\n",
    "# test printing the result\n",
    "for seq in dna_sequences:\n",
    "    print(f\"{seq}\")\n",
    "    print(f\"{dna_sequences[seq]}\\n\")\n",
    "       "
   ]
  },
  {
   "cell_type": "markdown",
   "metadata": {},
   "source": [
    "##### Counting the dna letters in the dict."
   ]
  },
  {
   "cell_type": "code",
   "execution_count": 183,
   "metadata": {},
   "outputs": [
    {
     "name": "stdout",
     "output_type": "stream",
     "text": [
      "{'c': 8, 'g': 2, 't': 7, 'a': 17}\n",
      "{'c': 12, 'g': 12, 't': 14, 'a': 20}\n",
      "{'c': 28, 'g': 28, 't': 24, 'a': 38, 'n': 2}\n",
      "{'c': 39, 'g': 46, 't': 34, 'a': 51, 'n': 2}\n",
      "{'>seq1': 'cgtaaccaataaaaaaacaagcttaacctaattc', '>seq2': 'agcttagtttggatctggccgggg', '>seq3': 'gcggatttactccccccaaaaannaggggagagcccagataaatggagtctgtgcgtccaca', '>seq4': 'gcggatttactcaggggagagcccagggataaatggagtctgtgcgtccaca'}\n"
     ]
    }
   ],
   "source": [
    "# for each sequence, create a dictionary to count the number of each DNA letter in that sequence\n",
    "# for each sequence, graph the frequency of DNA letters for each sequence\n",
    "\n",
    "from collections import Counter\n",
    "\n",
    "# empty counter\n",
    "char_count = Counter()\n",
    "\n",
    "# loop through the dna dict to get values\n",
    "for sequence in dna_sequences.values():\n",
    "    \n",
    "    # count the values in the sequence\n",
    "    char_count.update(sequence)\n",
    "    # \n",
    "    for seq in sequence[0]:\n",
    "        print(dict(char_count))\n",
    "\n",
    "\n",
    "print(dna_sequences)\n",
    "\n",
    "\n"
   ]
  }
 ],
 "metadata": {
  "kernelspec": {
   "display_name": "Python 3",
   "language": "python",
   "name": "python3"
  },
  "language_info": {
   "codemirror_mode": {
    "name": "ipython",
    "version": 3
   },
   "file_extension": ".py",
   "mimetype": "text/x-python",
   "name": "python",
   "nbconvert_exporter": "python",
   "pygments_lexer": "ipython3",
   "version": "3.13.2"
  }
 },
 "nbformat": 4,
 "nbformat_minor": 2
}
